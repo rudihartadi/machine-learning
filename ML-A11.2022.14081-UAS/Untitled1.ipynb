{
 "cells": [
  {
   "cell_type": "markdown",
   "id": "456d1788-5ea3-4d98-8713-239e35263348",
   "metadata": {},
   "source": [
    "# Proyek Pengenalan Wajah Menggunakan Convolutional Neural Network (CNN)\n",
    "**Nama:** Rudi Hartadi Setiawan  \n",
    "**Nim:** A11.2022.14081"
   ]
  },
  {
   "cell_type": "markdown",
   "id": "bef679c7-4994-468d-bfb2-7e24f66086b1",
   "metadata": {},
   "source": [
    "### Ringkasan\n",
    "Proyek ini fokus pada pengenalan wajah dengan menggunakan CNN untuk mengklasifikasikan wajah ke dalam kategori yang telah ditentukan. Dataset yang digunakan akan diproses melalui beberapa tahapan termasuk penyelarasan wajah, normalisasi gambar, augmentasi,dan Labeling sebelum dilatih menggunakan model CNN."
   ]
  },
  {
   "cell_type": "markdown",
   "id": "6d5aeaab-096a-4787-857c-a7b7c0151678",
   "metadata": {},
   "source": [
    "### Permasalahan\n",
    "- **Kualitas dan Variasi Data:** Dataset wajah mungkin memiliki variasi dalam pencahayaan, sudut, dan ekspresi yang dapat mempengaruhi akurasi model.\n",
    "- **Overfitting:** Dengan augmentasi data dan teknik regularisasi, kita perlu mencegah overfitting pada data pelatihan."
   ]
  },
  {
   "cell_type": "markdown",
   "id": "97c79d6a-9f7c-4fca-8a77-37aa0d3add38",
   "metadata": {},
   "source": [
    "### Tujuan\n",
    "- **Preprocessing Data:** Deteksi dan penyelarasan wajah, normalisasi, dan augmentasi data.\n",
    "- **Model Building:** Membangun dan melatih model CNN untuk klasifikasi wajah.\n",
    "- **Evaluasi:** Mengukur performa model dan menganalisis hasil."
   ]
  },
  {
   "cell_type": "markdown",
   "id": "131c051e-dda1-4e14-a897-00c2a9309423",
   "metadata": {},
   "source": [
    "### Model / Alur Penyelesaian\n",
    "```plaintext\n",
    "1. Import Libraries\n",
    "2. Data Preprocessing\n",
    "   - Alignment\n",
    "   - Data Normalization\n",
    "   - Data Augmentation\n",
    "   - Labeling\n",
    "3. Model Building\n",
    "   - CNN Architecture\n",
    "4. Model Training\n",
    "5. Model Evaluation"
   ]
  },
  {
   "cell_type": "markdown",
   "id": "ad71969e-05aa-40a6-b38f-1da37080459d",
   "metadata": {},
   "source": [
    "### Penjelasan Dataset\n",
    "Dataset yang digunakan berlokasi di D:/ML-A11.2022.14081-UAS/dataset dan berisi gambar wajah dalam berbagai kategori. Setiap gambar telah dikelompokkan dalam folder sesuai dengan labelnya. Dataset saya menggunakan VGGface2 dan berasal dari kaggle. Berikut linknya https://www.kaggle.com/datasets/hearfool/vggface2/data"
   ]
  },
  {
   "cell_type": "markdown",
   "id": "1188cdf4-4a2c-4433-b3cd-201c3baecf5c",
   "metadata": {},
   "source": [
    "### Exploratory Data Analysis (EDA)\n",
    "- **Jumlah Kategori:** Analisis jumlah kategori yang tersedia.\n",
    "- **Jumlah Gambar per Kategori:** Distribusi gambar dalam setiap kategori."
   ]
  },
  {
   "cell_type": "markdown",
   "id": "c13f353c-4cac-4325-9384-94d6e34af5be",
   "metadata": {},
   "source": [
    "### Proses Features Dataset\n",
    "Proses meliputi align image, normalize, augmentation, dan Labeling."
   ]
  },
  {
   "cell_type": "markdown",
   "id": "777a6680-ced5-4567-b753-55d14dc41b5f",
   "metadata": {},
   "source": [
    "## Import Libraries"
   ]
  },
  {
   "cell_type": "code",
   "execution_count": 21,
   "id": "262bbb7c-2022-4f07-955e-60f19f6c30ab",
   "metadata": {},
   "outputs": [],
   "source": [
    "import cv2\n",
    "import dlib\n",
    "import numpy as np\n",
    "import os\n",
    "import matplotlib.pyplot as plt\n",
    "from sklearn.preprocessing import LabelEncoder\n",
    "from tensorflow.keras.preprocessing.image import ImageDataGenerator\n",
    "from sklearn.model_selection import train_test_split\n",
    "from tensorflow.keras.models import Sequential\n",
    "from tensorflow.keras.layers import Conv2D, MaxPooling2D, Flatten, Dense, Dropout, Input, BatchNormalization\n",
    "from tensorflow.keras.optimizers import Adam\n",
    "from tensorflow.keras.callbacks import EarlyStopping, ModelCheckpoint\n",
    "from tensorflow.keras import regularizers\n",
    "from tensorflow.keras.regularizers import l2"
   ]
  },
  {
   "cell_type": "code",
   "execution_count": 5,
   "id": "63bc0eab-93f5-42b5-85c4-13f77be4a41e",
   "metadata": {},
   "outputs": [],
   "source": [
    "dataset_path = 'D:/ML-A11.2022.14081-UAS/dataset'\n",
    "output_path = 'D:/ML-A11.2022.14081-UAS/dataset_processed'\n",
    "shape_predictor_path = 'D:/ML-A11.2022.14081-UAS/shape_predictor_68_face_landmarks.dat'"
   ]
  },
  {
   "cell_type": "code",
   "execution_count": 24,
   "id": "58742957-bc5e-4ece-8748-3559e5989f49",
   "metadata": {},
   "outputs": [],
   "source": [
    "datagen = ImageDataGenerator(rescale=1./255, validation_split=0.2)"
   ]
  },
  {
   "cell_type": "code",
   "execution_count": 25,
   "id": "f05b6f61-8ee8-479b-8b0d-3c9d983ab365",
   "metadata": {},
   "outputs": [
    {
     "name": "stdout",
     "output_type": "stream",
     "text": [
      "Found 1725 images belonging to 7 classes.\n"
     ]
    }
   ],
   "source": [
    "train_generator = datagen.flow_from_directory(\n",
    "    dataset_path,\n",
    "    target_size=(224, 224),\n",
    "    batch_size=32,\n",
    "    class_mode='categorical',\n",
    "    subset='training')"
   ]
  },
  {
   "cell_type": "code",
   "execution_count": 26,
   "id": "e01178e2-83c8-41ca-acba-ceb85f230764",
   "metadata": {},
   "outputs": [
    {
     "name": "stdout",
     "output_type": "stream",
     "text": [
      "Found 428 images belonging to 7 classes.\n"
     ]
    }
   ],
   "source": [
    "validation_generator = datagen.flow_from_directory(\n",
    "    dataset_path,\n",
    "    target_size=(224, 224),\n",
    "    batch_size=32,\n",
    "    class_mode='categorical',\n",
    "    subset='validation')"
   ]
  },
  {
   "cell_type": "markdown",
   "id": "986e26bd-f91a-4ec2-9c7a-984049677aa9",
   "metadata": {},
   "source": [
    "## Preprocessing"
   ]
  },
  {
   "cell_type": "code",
   "execution_count": 38,
   "id": "e2370106-e002-42e4-b675-eea0ee569248",
   "metadata": {},
   "outputs": [],
   "source": [
    "if not os.path.exists(output_path):\n",
    "    os.makedirs(output_path)"
   ]
  },
  {
   "cell_type": "code",
   "execution_count": 39,
   "id": "4323babd-d7cd-480b-9697-06561d9e6f84",
   "metadata": {},
   "outputs": [],
   "source": [
    "detector = dlib.get_frontal_face_detector()\n",
    "predictor = dlib.shape_predictor('D:/ML-A11.2022.14081-UAS/shape_predictor_68_face_landmarks.dat')"
   ]
  },
  {
   "cell_type": "code",
   "execution_count": 40,
   "id": "49e68cc9-c570-4938-bb65-af43664d9b7e",
   "metadata": {},
   "outputs": [],
   "source": [
    "def align_face(image):\n",
    "    gray = cv2.cvtColor(image, cv2.COLOR_BGR2GRAY)\n",
    "    faces = detector(gray)\n",
    "    if len(faces) == 0:\n",
    "        return None\n",
    "    \n",
    "    face = faces[0]\n",
    "    landmarks = predictor(gray, face)\n",
    "    landmarks = np.array([[p.x, p.y] for p in landmarks.parts()])\n",
    "    return transform_image(image, landmarks)"
   ]
  },
  {
   "cell_type": "code",
   "execution_count": 41,
   "id": "d998428b-7fa2-4dbd-a0ed-f98fb1fc9217",
   "metadata": {},
   "outputs": [],
   "source": [
    "def transform_image(image, landmarks):\n",
    "    left_eye_pts = [36, 37, 38, 39, 40, 41]\n",
    "    right_eye_pts = [42, 43, 44, 45, 46, 47]\n",
    "    left_eye = np.mean([landmarks[i] for i in left_eye_pts], axis=0)\n",
    "    right_eye = np.mean([landmarks[i] for i in right_eye_pts], axis=0)\n",
    "    eye_center = ((left_eye[0] + right_eye[0]) / 2, (left_eye[1] + right_eye[1]) / 2)\n",
    "    angle = np.degrees(np.arctan2(right_eye[1] - left_eye[1], right_eye[0] - left_eye[0]))\n",
    "\n",
    "    M = cv2.getRotationMatrix2D(eye_center, angle, scale=1.0)\n",
    "    (w, h) = image.shape[1], image.shape[0]\n",
    "    aligned_image = cv2.warpAffine(image, M, (w, h), flags=cv2.INTER_CUBIC)\n",
    "\n",
    "    return aligned_image"
   ]
  },
  {
   "cell_type": "code",
   "execution_count": 42,
   "id": "4d12db07-fad9-4005-8316-1d0e4858a0fd",
   "metadata": {},
   "outputs": [],
   "source": [
    "def process_and_save_images(dataset_path, output_path):\n",
    "    for root, dirs, files in os.walk(dataset_path):\n",
    "        for file in files:\n",
    "            if file.endswith('.jpg') or file.endswith('.png'):\n",
    "                file_path = os.path.join(root, file)\n",
    "                image = cv2.imread(file_path)\n",
    "                aligned_image = align_face(image)\n",
    "                if aligned_image is not None:\n",
    "                    save_path = os.path.join(output_path, file)\n",
    "                    cv2.imwrite(save_path, aligned_image)\n",
    "\n"
   ]
  },
  {
   "cell_type": "code",
   "execution_count": 43,
   "id": "5ab4a08b-7878-4b31-b826-be26028eb24d",
   "metadata": {},
   "outputs": [
    {
     "name": "stdout",
     "output_type": "stream",
     "text": [
      "Image alignment completed successfully.\n"
     ]
    }
   ],
   "source": [
    "process_and_save_images(dataset_path, output_path)\n",
    "print(\"Image alignment completed successfully.\")"
   ]
  },
  {
   "cell_type": "code",
   "execution_count": 44,
   "id": "07ef48f8-351e-4802-960b-750ffa562736",
   "metadata": {},
   "outputs": [],
   "source": [
    "def preprocess_and_normalize_image(image_path):\n",
    "    image = cv2.imread(image_path)\n",
    "    image = cv2.resize(image, (128, 128))\n",
    "    normalized_image = image / 255.0\n",
    "    return normalized_image"
   ]
  },
  {
   "cell_type": "code",
   "execution_count": 55,
   "id": "36677fed-f778-4007-b92c-55c9e4c9153c",
   "metadata": {},
   "outputs": [],
   "source": [
    "def preprocess_all_images(output_path):\n",
    "    X = []\n",
    "    for root, dirs, files in os.walk(output_path):\n",
    "        for file in files:\n",
    "            if file.endswith('.jpg') or file.endswith('.png'):\n",
    "                file_path = os.path.join(root, file)\n",
    "                normalized_image = preprocess_and_normalize_image(file_path)\n",
    "                X.append(normalized_image)\n",
    "\n",
    "    X = np.array(X)\n",
    "    np.save(os.path.join(output_path, 'X_normalized.npy'), X)\n",
    "    print(\"Image normalization completed successfully.\")"
   ]
  },
  {
   "cell_type": "code",
   "execution_count": 56,
   "id": "7e180119-8e25-48e1-bf93-2f33efbe1801",
   "metadata": {},
   "outputs": [
    {
     "name": "stdout",
     "output_type": "stream",
     "text": [
      "Image normalization completed successfully.\n"
     ]
    }
   ],
   "source": [
    "preprocess_all_images(output_path)"
   ]
  },
  {
   "cell_type": "code",
   "execution_count": 59,
   "id": "1f47ade6-f7da-4b07-b216-ddeeef909866",
   "metadata": {},
   "outputs": [],
   "source": [
    "def augment_images(X, output_path, num_images=5):\n",
    "    datagen = ImageDataGenerator(\n",
    "        rotation_range=20,\n",
    "        width_shift_range=0.2,\n",
    "        height_shift_range=0.2,\n",
    "        shear_range=0.2,\n",
    "        zoom_range=0.2,\n",
    "        horizontal_flip=True,\n",
    "        fill_mode='nearest'\n",
    "    )\n",
    "    for i, image in enumerate(X):\n",
    "        image = np.expand_dims(image, 0)\n",
    "        augmented_images = datagen.flow(image, batch_size=1)\n",
    "\n",
    "        for j in range(num_images):\n",
    "            augmented_image = next(augmented_images)[0]\n",
    "            save_path = os.path.join(output_path, f\"augmented_{i}_{j}.png\")\n",
    "            augmented_image = (augmented_image * 255).astype(np.uint8)\n",
    "            cv2.imwrite(save_path, cv2.cvtColor(augmented_image, cv2.COLOR_RGB2BGR))"
   ]
  },
  {
   "cell_type": "code",
   "execution_count": 60,
   "id": "78af70b7-7ef7-4fac-bedf-f8106005e4a8",
   "metadata": {},
   "outputs": [
    {
     "name": "stdout",
     "output_type": "stream",
     "text": [
      "Image augmentation completed successfully.\n"
     ]
    }
   ],
   "source": [
    "X_normalized = np.load(os.path.join(output_path, 'X_normalized.npy'))\n",
    "augment_images(X_normalized, output_path)\n",
    "print(\"Image augmentation completed successfully.\")"
   ]
  },
  {
   "cell_type": "code",
   "execution_count": 22,
   "id": "e1d858e9-034f-4278-8adf-359219e1ff86",
   "metadata": {},
   "outputs": [
    {
     "ename": "IndentationError",
     "evalue": "unexpected indent (2152034513.py, line 3)",
     "output_type": "error",
     "traceback": [
      "\u001b[1;36m  Cell \u001b[1;32mIn[22], line 3\u001b[1;36m\u001b[0m\n\u001b[1;33m    for root, dirs, files in os.walk(output_path):\u001b[0m\n\u001b[1;37m    ^\u001b[0m\n\u001b[1;31mIndentationError\u001b[0m\u001b[1;31m:\u001b[0m unexpected indent\n"
     ]
    }
   ],
   "source": [
    "data = []\n",
    "labels = []\n",
    "    for root, dirs, files in os.walk(output_path):\n",
    "        for file in files:\n",
    "            file_path = os.path.join(root, file)\n",
    "            image = cv2.imread(file_path, cv2.IMREAD_GRAYSCALE)\n",
    "            if image is not None:\n",
    "                data.append(image)\n",
    "                label = root.split(os.path.sep)[-1]\n",
    "                labels.append(label)\n",
    "    \n",
    "    data = np.stack(datas)\n",
    "    labels = np.array(labels)"
   ]
  },
  {
   "cell_type": "code",
   "execution_count": 92,
   "id": "334d6bc5-64a0-47f9-9186-0e3008abccda",
   "metadata": {},
   "outputs": [],
   "source": [
    "encoder = LabelEncoder()\n",
    "encoded_labels = encoder.fit_transform(labels)"
   ]
  },
  {
   "cell_type": "code",
   "execution_count": 93,
   "id": "b97e379d-3c55-4f06-9a61-3483ea9554ab",
   "metadata": {},
   "outputs": [],
   "source": [
    "X_train, X_temp, y_train, y_temp = train_test_split(data, encoded_labels, test_size=0.2, random_state=42)\n",
    "X_val, X_test, y_val, y_test = train_test_split(X_temp, y_temp, test_size=0.5, random_state=42)"
   ]
  },
  {
   "cell_type": "code",
   "execution_count": 94,
   "id": "33f245b2-98ab-4aed-bbcd-9efb1fb653d7",
   "metadata": {},
   "outputs": [
    {
     "name": "stdout",
     "output_type": "stream",
     "text": [
      "Data preprocessing and augmentation completed successfully.\n"
     ]
    }
   ],
   "source": [
    "np.save(os.path.join(output_path, 'X_train.npy'), X_train)\n",
    "np.save(os.path.join(output_path, 'X_val.npy'), X_val)\n",
    "np.save(os.path.join(output_path, 'X_test.npy'), X_test)\n",
    "np.save(os.path.join(output_path, 'y_train.npy'), y_train)\n",
    "np.save(os.path.join(output_path, 'y_val.npy'), y_val)\n",
    "np.save(os.path.join(output_path, 'y_test.npy'), y_test)\n",
    "\n",
    "print(\"Data preprocessing and augmentation completed successfully.\")"
   ]
  },
  {
   "cell_type": "markdown",
   "id": "4401e4a1-a7cc-4e33-88eb-2511afb56afa",
   "metadata": {},
   "source": [
    "## Model CNN"
   ]
  },
  {
   "cell_type": "code",
   "execution_count": 95,
   "id": "9a011133-41a6-4606-8798-bacf12acf53d",
   "metadata": {},
   "outputs": [],
   "source": [
    "X_train = np.load(os.path.join(output_path, 'X_train.npy'))\n",
    "X_val = np.load(os.path.join(output_path, 'X_val.npy'))\n",
    "X_test = np.load(os.path.join(output_path, 'X_test.npy'))\n",
    "y_train = np.load(os.path.join(output_path, 'y_train.npy'))\n",
    "y_val = np.load(os.path.join(output_path, 'y_val.npy'))\n",
    "y_test = np.load(os.path.join(output_path, 'y_test.npy'))"
   ]
  },
  {
   "cell_type": "code",
   "execution_count": 96,
   "id": "775382c3-c878-4783-bb6b-68d932d1cace",
   "metadata": {},
   "outputs": [],
   "source": [
    "X_train = X_train / 255.0\n",
    "X_val = X_val / 255.0\n",
    "X_test = X_test / 255.0"
   ]
  },
  {
   "cell_type": "code",
   "execution_count": 109,
   "id": "7599798a-3597-4de4-ace0-a1ca10dd71fa",
   "metadata": {},
   "outputs": [],
   "source": [
    "model = Sequential([\n",
    "    Conv2D(64, (3, 3), activation='relu', input_shape=(128, 128, 1)),\n",
    "    MaxPooling2D((2, 2)),\n",
    "    Dropout(0.25),\n",
    "    \n",
    "    Conv2D(128, (3, 3), activation='relu'),\n",
    "    MaxPooling2D((2, 2)),\n",
    "    BatchNormalization(),\n",
    "    Dropout(0.25),\n",
    "    \n",
    "    Conv2D(256, (3, 3), activation='relu'),\n",
    "    MaxPooling2D((2, 2)),\n",
    "    BatchNormalization(),\n",
    "    Dropout(0.25),\n",
    "    \n",
    "    Flatten(),\n",
    "    Dense(256, activation='relu', kernel_regularizer=l2(0.01)),\n",
    "    Dropout(0.5),\n",
    "    Dense(7, activation='softmax')\n",
    "])"
   ]
  },
  {
   "cell_type": "code",
   "execution_count": 110,
   "id": "899b9473-b090-44cb-9256-211316e2abdf",
   "metadata": {},
   "outputs": [],
   "source": [
    "optimizer = Adam(learning_rate=0.0001)\n",
    "model.compile(optimizer=optimizer,\n",
    "              loss='sparse_categorical_crossentropy',\n",
    "              metrics=['accuracy'])"
   ]
  },
  {
   "cell_type": "code",
   "execution_count": 111,
   "id": "c7ff780f-caba-4cdf-85a9-b67f7c97a3ef",
   "metadata": {},
   "outputs": [],
   "source": [
    "early_stopping = EarlyStopping(monitor='val_loss', patience=10, restore_best_weights=True)\n",
    "model_checkpoint = ModelCheckpoint('best_model.keras', save_best_only=True, monitor='val_loss')"
   ]
  },
  {
   "cell_type": "code",
   "execution_count": 112,
   "id": "e2d4800b-c0c6-414c-a414-563f02fbe402",
   "metadata": {},
   "outputs": [
    {
     "name": "stdout",
     "output_type": "stream",
     "text": [
      "Epoch 1/10\n",
      "\u001b[1m563/563\u001b[0m \u001b[32m━━━━━━━━━━━━━━━━━━━━\u001b[0m\u001b[37m\u001b[0m \u001b[1m407s\u001b[0m 718ms/step - accuracy: 0.9515 - loss: 4.7940 - val_accuracy: 1.0000 - val_loss: 2.5072\n",
      "Epoch 2/10\n",
      "\u001b[1m563/563\u001b[0m \u001b[32m━━━━━━━━━━━━━━━━━━━━\u001b[0m\u001b[37m\u001b[0m \u001b[1m397s\u001b[0m 705ms/step - accuracy: 0.9981 - loss: 2.0019 - val_accuracy: 1.0000 - val_loss: 0.9984\n",
      "Epoch 3/10\n",
      "\u001b[1m563/563\u001b[0m \u001b[32m━━━━━━━━━━━━━━━━━━━━\u001b[0m\u001b[37m\u001b[0m \u001b[1m394s\u001b[0m 699ms/step - accuracy: 0.9988 - loss: 0.7882 - val_accuracy: 1.0000 - val_loss: 0.3762\n",
      "Epoch 4/10\n",
      "\u001b[1m563/563\u001b[0m \u001b[32m━━━━━━━━━━━━━━━━━━━━\u001b[0m\u001b[37m\u001b[0m \u001b[1m394s\u001b[0m 699ms/step - accuracy: 0.9982 - loss: 0.3299 - val_accuracy: 1.0000 - val_loss: 0.2543\n",
      "Epoch 5/10\n",
      "\u001b[1m563/563\u001b[0m \u001b[32m━━━━━━━━━━━━━━━━━━━━\u001b[0m\u001b[37m\u001b[0m \u001b[1m395s\u001b[0m 702ms/step - accuracy: 0.9990 - loss: 0.2313 - val_accuracy: 1.0000 - val_loss: 0.2057\n",
      "Epoch 6/10\n",
      "\u001b[1m563/563\u001b[0m \u001b[32m━━━━━━━━━━━━━━━━━━━━\u001b[0m\u001b[37m\u001b[0m \u001b[1m394s\u001b[0m 700ms/step - accuracy: 0.9996 - loss: 0.1544 - val_accuracy: 1.0000 - val_loss: 0.1236\n",
      "Epoch 7/10\n",
      "\u001b[1m563/563\u001b[0m \u001b[32m━━━━━━━━━━━━━━━━━━━━\u001b[0m\u001b[37m\u001b[0m \u001b[1m395s\u001b[0m 701ms/step - accuracy: 0.9994 - loss: 0.1206 - val_accuracy: 1.0000 - val_loss: 0.1528\n",
      "Epoch 8/10\n",
      "\u001b[1m563/563\u001b[0m \u001b[32m━━━━━━━━━━━━━━━━━━━━\u001b[0m\u001b[37m\u001b[0m \u001b[1m394s\u001b[0m 700ms/step - accuracy: 0.9999 - loss: 0.0971 - val_accuracy: 1.0000 - val_loss: 0.1188\n",
      "Epoch 9/10\n",
      "\u001b[1m563/563\u001b[0m \u001b[32m━━━━━━━━━━━━━━━━━━━━\u001b[0m\u001b[37m\u001b[0m \u001b[1m394s\u001b[0m 701ms/step - accuracy: 0.9986 - loss: 0.2127 - val_accuracy: 1.0000 - val_loss: 0.0370\n",
      "Epoch 10/10\n",
      "\u001b[1m563/563\u001b[0m \u001b[32m━━━━━━━━━━━━━━━━━━━━\u001b[0m\u001b[37m\u001b[0m \u001b[1m394s\u001b[0m 700ms/step - accuracy: 1.0000 - loss: 0.0233 - val_accuracy: 1.0000 - val_loss: 0.0050\n"
     ]
    }
   ],
   "source": [
    "history = model.fit(X_train, y_train,\n",
    "                    epochs=10,\n",
    "                    batch_size=32,\n",
    "                    validation_data=(X_val, y_val))"
   ]
  },
  {
   "cell_type": "code",
   "execution_count": 113,
   "id": "582ceb55-b387-4125-9b51-07d6a2a4ac2b",
   "metadata": {},
   "outputs": [
    {
     "name": "stdout",
     "output_type": "stream",
     "text": [
      "\u001b[1m71/71\u001b[0m \u001b[32m━━━━━━━━━━━━━━━━━━━━\u001b[0m\u001b[37m\u001b[0m \u001b[1m10s\u001b[0m 139ms/step - accuracy: 1.0000 - loss: 0.0050\n",
      "Test Accuracy: 100.00%\n"
     ]
    }
   ],
   "source": [
    "test_loss, test_accuracy = model.evaluate(X_test, y_test)\n",
    "print(f\"Test Accuracy: {test_accuracy * 100:.2f}%\")"
   ]
  },
  {
   "cell_type": "code",
   "execution_count": 114,
   "id": "6401f16e-884b-4015-aa87-3bb04ce691a2",
   "metadata": {},
   "outputs": [
    {
     "data": {
      "image/png": "[encoded data removed]",
      "text/plain": [
       "<Figure size 640x480 with 1 Axes>"
      ]
     },
     "metadata": {},
     "output_type": "display_data"
    },
    {
     "data": {
      "image/png": "[encoded data removed]",
      "text/plain": [
       "<Figure size 640x480 with 1 Axes>"
      ]
     },
     "metadata": {},
     "output_type": "display_data"
    }
   ],
   "source": [
    "plt.plot(history.history['accuracy'])\n",
    "plt.plot(history.history['val_accuracy'])\n",
    "plt.title('Model accuracy')\n",
    "plt.xlabel('Epoch')\n",
    "plt.ylabel('Accuracy')\n",
    "plt.legend(['Train', 'Validation'], loc='upper left')\n",
    "plt.show()\n",
    "\n",
    "plt.plot(history.history['loss'])\n",
    "plt.plot(history.history['val_loss'])\n",
    "plt.title('Model loss')\n",
    "plt.xlabel('Epoch')\n",
    "plt.ylabel('Loss')\n",
    "plt.legend(['Train', 'Validation'], loc='upper left')\n",
    "plt.show()"
   ]
  },
  {
   "cell_type": "code",
   "execution_count": 115,
   "id": "a764aae0-226f-4f14-944c-73d9a530dcea",
   "metadata": {},
   "outputs": [
    {
     "data": {
      "text/html": [
       "<pre style=\"white-space:pre;overflow-x:auto;line-height:normal;font-family:Menlo,'DejaVu Sans Mono',consolas,'Courier New',monospace\"><span style=\"font-weight: bold\">Model: \"sequential_4\"</span>\n",
       "</pre>\n"
      ],
      "text/plain": [
       "\u001b[1mModel: \"sequential_4\"\u001b[0m\n"
      ]
     },
     "metadata": {},
     "output_type": "display_data"
    },
    {
     "data": {
      "text/html": [
       "<pre style=\"white-space:pre;overflow-x:auto;line-height:normal;font-family:Menlo,'DejaVu Sans Mono',consolas,'Courier New',monospace\">┏━━━━━━━━━━━━━━━━━━━━━━━━━━━━━━━━━━━━━━┳━━━━━━━━━━━━━━━━━━━━━━━━━━━━━┳━━━━━━━━━━━━━━━━━┓\n",
       "┃<span style=\"font-weight: bold\"> Layer (type)                         </span>┃<span style=\"font-weight: bold\"> Output Shape                </span>┃<span style=\"font-weight: bold\">         Param # </span>┃\n",
       "┡━━━━━━━━━━━━━━━━━━━━━━━━━━━━━━━━━━━━━━╇━━━━━━━━━━━━━━━━━━━━━━━━━━━━━╇━━━━━━━━━━━━━━━━━┩\n",
       "│ conv2d_15 (<span style=\"color: #0087ff; text-decoration-color: #0087ff\">Conv2D</span>)                   │ (<span style=\"color: #00d7ff; text-decoration-color: #00d7ff\">None</span>, <span style=\"color: #00af00; text-decoration-color: #00af00\">126</span>, <span style=\"color: #00af00; text-decoration-color: #00af00\">126</span>, <span style=\"color: #00af00; text-decoration-color: #00af00\">64</span>)        │             <span style=\"color: #00af00; text-decoration-color: #00af00\">640</span> │\n",
       "├──────────────────────────────────────┼─────────────────────────────┼─────────────────┤\n",
       "│ max_pooling2d_15 (<span style=\"color: #0087ff; text-decoration-color: #0087ff\">MaxPooling2D</span>)      │ (<span style=\"color: #00d7ff; text-decoration-color: #00d7ff\">None</span>, <span style=\"color: #00af00; text-decoration-color: #00af00\">63</span>, <span style=\"color: #00af00; text-decoration-color: #00af00\">63</span>, <span style=\"color: #00af00; text-decoration-color: #00af00\">64</span>)          │               <span style=\"color: #00af00; text-decoration-color: #00af00\">0</span> │\n",
       "├──────────────────────────────────────┼─────────────────────────────┼─────────────────┤\n",
       "│ dropout_3 (<span style=\"color: #0087ff; text-decoration-color: #0087ff\">Dropout</span>)                  │ (<span style=\"color: #00d7ff; text-decoration-color: #00d7ff\">None</span>, <span style=\"color: #00af00; text-decoration-color: #00af00\">63</span>, <span style=\"color: #00af00; text-decoration-color: #00af00\">63</span>, <span style=\"color: #00af00; text-decoration-color: #00af00\">64</span>)          │               <span style=\"color: #00af00; text-decoration-color: #00af00\">0</span> │\n",
       "├──────────────────────────────────────┼─────────────────────────────┼─────────────────┤\n",
       "│ conv2d_16 (<span style=\"color: #0087ff; text-decoration-color: #0087ff\">Conv2D</span>)                   │ (<span style=\"color: #00d7ff; text-decoration-color: #00d7ff\">None</span>, <span style=\"color: #00af00; text-decoration-color: #00af00\">61</span>, <span style=\"color: #00af00; text-decoration-color: #00af00\">61</span>, <span style=\"color: #00af00; text-decoration-color: #00af00\">128</span>)         │          <span style=\"color: #00af00; text-decoration-color: #00af00\">73,856</span> │\n",
       "├──────────────────────────────────────┼─────────────────────────────┼─────────────────┤\n",
       "│ max_pooling2d_16 (<span style=\"color: #0087ff; text-decoration-color: #0087ff\">MaxPooling2D</span>)      │ (<span style=\"color: #00d7ff; text-decoration-color: #00d7ff\">None</span>, <span style=\"color: #00af00; text-decoration-color: #00af00\">30</span>, <span style=\"color: #00af00; text-decoration-color: #00af00\">30</span>, <span style=\"color: #00af00; text-decoration-color: #00af00\">128</span>)         │               <span style=\"color: #00af00; text-decoration-color: #00af00\">0</span> │\n",
       "├──────────────────────────────────────┼─────────────────────────────┼─────────────────┤\n",
       "│ batch_normalization_2                │ (<span style=\"color: #00d7ff; text-decoration-color: #00d7ff\">None</span>, <span style=\"color: #00af00; text-decoration-color: #00af00\">30</span>, <span style=\"color: #00af00; text-decoration-color: #00af00\">30</span>, <span style=\"color: #00af00; text-decoration-color: #00af00\">128</span>)         │             <span style=\"color: #00af00; text-decoration-color: #00af00\">512</span> │\n",
       "│ (<span style=\"color: #0087ff; text-decoration-color: #0087ff\">BatchNormalization</span>)                 │                             │                 │\n",
       "├──────────────────────────────────────┼─────────────────────────────┼─────────────────┤\n",
       "│ dropout_4 (<span style=\"color: #0087ff; text-decoration-color: #0087ff\">Dropout</span>)                  │ (<span style=\"color: #00d7ff; text-decoration-color: #00d7ff\">None</span>, <span style=\"color: #00af00; text-decoration-color: #00af00\">30</span>, <span style=\"color: #00af00; text-decoration-color: #00af00\">30</span>, <span style=\"color: #00af00; text-decoration-color: #00af00\">128</span>)         │               <span style=\"color: #00af00; text-decoration-color: #00af00\">0</span> │\n",
       "├──────────────────────────────────────┼─────────────────────────────┼─────────────────┤\n",
       "│ conv2d_17 (<span style=\"color: #0087ff; text-decoration-color: #0087ff\">Conv2D</span>)                   │ (<span style=\"color: #00d7ff; text-decoration-color: #00d7ff\">None</span>, <span style=\"color: #00af00; text-decoration-color: #00af00\">28</span>, <span style=\"color: #00af00; text-decoration-color: #00af00\">28</span>, <span style=\"color: #00af00; text-decoration-color: #00af00\">256</span>)         │         <span style=\"color: #00af00; text-decoration-color: #00af00\">295,168</span> │\n",
       "├──────────────────────────────────────┼─────────────────────────────┼─────────────────┤\n",
       "│ max_pooling2d_17 (<span style=\"color: #0087ff; text-decoration-color: #0087ff\">MaxPooling2D</span>)      │ (<span style=\"color: #00d7ff; text-decoration-color: #00d7ff\">None</span>, <span style=\"color: #00af00; text-decoration-color: #00af00\">14</span>, <span style=\"color: #00af00; text-decoration-color: #00af00\">14</span>, <span style=\"color: #00af00; text-decoration-color: #00af00\">256</span>)         │               <span style=\"color: #00af00; text-decoration-color: #00af00\">0</span> │\n",
       "├──────────────────────────────────────┼─────────────────────────────┼─────────────────┤\n",
       "│ batch_normalization_3                │ (<span style=\"color: #00d7ff; text-decoration-color: #00d7ff\">None</span>, <span style=\"color: #00af00; text-decoration-color: #00af00\">14</span>, <span style=\"color: #00af00; text-decoration-color: #00af00\">14</span>, <span style=\"color: #00af00; text-decoration-color: #00af00\">256</span>)         │           <span style=\"color: #00af00; text-decoration-color: #00af00\">1,024</span> │\n",
       "│ (<span style=\"color: #0087ff; text-decoration-color: #0087ff\">BatchNormalization</span>)                 │                             │                 │\n",
       "├──────────────────────────────────────┼─────────────────────────────┼─────────────────┤\n",
       "│ dropout_5 (<span style=\"color: #0087ff; text-decoration-color: #0087ff\">Dropout</span>)                  │ (<span style=\"color: #00d7ff; text-decoration-color: #00d7ff\">None</span>, <span style=\"color: #00af00; text-decoration-color: #00af00\">14</span>, <span style=\"color: #00af00; text-decoration-color: #00af00\">14</span>, <span style=\"color: #00af00; text-decoration-color: #00af00\">256</span>)         │               <span style=\"color: #00af00; text-decoration-color: #00af00\">0</span> │\n",
       "├──────────────────────────────────────┼─────────────────────────────┼─────────────────┤\n",
       "│ flatten_5 (<span style=\"color: #0087ff; text-decoration-color: #0087ff\">Flatten</span>)                  │ (<span style=\"color: #00d7ff; text-decoration-color: #00d7ff\">None</span>, <span style=\"color: #00af00; text-decoration-color: #00af00\">50176</span>)               │               <span style=\"color: #00af00; text-decoration-color: #00af00\">0</span> │\n",
       "├──────────────────────────────────────┼─────────────────────────────┼─────────────────┤\n",
       "│ dense_8 (<span style=\"color: #0087ff; text-decoration-color: #0087ff\">Dense</span>)                      │ (<span style=\"color: #00d7ff; text-decoration-color: #00d7ff\">None</span>, <span style=\"color: #00af00; text-decoration-color: #00af00\">256</span>)                 │      <span style=\"color: #00af00; text-decoration-color: #00af00\">12,845,312</span> │\n",
       "├──────────────────────────────────────┼─────────────────────────────┼─────────────────┤\n",
       "│ dropout_6 (<span style=\"color: #0087ff; text-decoration-color: #0087ff\">Dropout</span>)                  │ (<span style=\"color: #00d7ff; text-decoration-color: #00d7ff\">None</span>, <span style=\"color: #00af00; text-decoration-color: #00af00\">256</span>)                 │               <span style=\"color: #00af00; text-decoration-color: #00af00\">0</span> │\n",
       "├──────────────────────────────────────┼─────────────────────────────┼─────────────────┤\n",
       "│ dense_9 (<span style=\"color: #0087ff; text-decoration-color: #0087ff\">Dense</span>)                      │ (<span style=\"color: #00d7ff; text-decoration-color: #00d7ff\">None</span>, <span style=\"color: #00af00; text-decoration-color: #00af00\">7</span>)                   │           <span style=\"color: #00af00; text-decoration-color: #00af00\">1,799</span> │\n",
       "└──────────────────────────────────────┴─────────────────────────────┴─────────────────┘\n",
       "</pre>\n"
      ],
      "text/plain": [
       "┏━━━━━━━━━━━━━━━━━━━━━━━━━━━━━━━━━━━━━━┳━━━━━━━━━━━━━━━━━━━━━━━━━━━━━┳━━━━━━━━━━━━━━━━━┓\n",
       "┃\u001b[1m \u001b[0m\u001b[1mLayer (type)                        \u001b[0m\u001b[1m \u001b[0m┃\u001b[1m \u001b[0m\u001b[1mOutput Shape               \u001b[0m\u001b[1m \u001b[0m┃\u001b[1m \u001b[0m\u001b[1m        Param #\u001b[0m\u001b[1m \u001b[0m┃\n",
       "┡━━━━━━━━━━━━━━━━━━━━━━━━━━━━━━━━━━━━━━╇━━━━━━━━━━━━━━━━━━━━━━━━━━━━━╇━━━━━━━━━━━━━━━━━┩\n",
       "│ conv2d_15 (\u001b[38;5;33mConv2D\u001b[0m)                   │ (\u001b[38;5;45mNone\u001b[0m, \u001b[38;5;34m126\u001b[0m, \u001b[38;5;34m126\u001b[0m, \u001b[38;5;34m64\u001b[0m)        │             \u001b[38;5;34m640\u001b[0m │\n",
       "├──────────────────────────────────────┼─────────────────────────────┼─────────────────┤\n",
       "│ max_pooling2d_15 (\u001b[38;5;33mMaxPooling2D\u001b[0m)      │ (\u001b[38;5;45mNone\u001b[0m, \u001b[38;5;34m63\u001b[0m, \u001b[38;5;34m63\u001b[0m, \u001b[38;5;34m64\u001b[0m)          │               \u001b[38;5;34m0\u001b[0m │\n",
       "├──────────────────────────────────────┼─────────────────────────────┼─────────────────┤\n",
       "│ dropout_3 (\u001b[38;5;33mDropout\u001b[0m)                  │ (\u001b[38;5;45mNone\u001b[0m, \u001b[38;5;34m63\u001b[0m, \u001b[38;5;34m63\u001b[0m, \u001b[38;5;34m64\u001b[0m)          │               \u001b[38;5;34m0\u001b[0m │\n",
       "├──────────────────────────────────────┼─────────────────────────────┼─────────────────┤\n",
       "│ conv2d_16 (\u001b[38;5;33mConv2D\u001b[0m)                   │ (\u001b[38;5;45mNone\u001b[0m, \u001b[38;5;34m61\u001b[0m, \u001b[38;5;34m61\u001b[0m, \u001b[38;5;34m128\u001b[0m)         │          \u001b[38;5;34m73,856\u001b[0m │\n",
       "├──────────────────────────────────────┼─────────────────────────────┼─────────────────┤\n",
       "│ max_pooling2d_16 (\u001b[38;5;33mMaxPooling2D\u001b[0m)      │ (\u001b[38;5;45mNone\u001b[0m, \u001b[38;5;34m30\u001b[0m, \u001b[38;5;34m30\u001b[0m, \u001b[38;5;34m128\u001b[0m)         │               \u001b[38;5;34m0\u001b[0m │\n",
       "├──────────────────────────────────────┼─────────────────────────────┼─────────────────┤\n",
       "│ batch_normalization_2                │ (\u001b[38;5;45mNone\u001b[0m, \u001b[38;5;34m30\u001b[0m, \u001b[38;5;34m30\u001b[0m, \u001b[38;5;34m128\u001b[0m)         │             \u001b[38;5;34m512\u001b[0m │\n",
       "│ (\u001b[38;5;33mBatchNormalization\u001b[0m)                 │                             │                 │\n",
       "├──────────────────────────────────────┼─────────────────────────────┼─────────────────┤\n",
       "│ dropout_4 (\u001b[38;5;33mDropout\u001b[0m)                  │ (\u001b[38;5;45mNone\u001b[0m, \u001b[38;5;34m30\u001b[0m, \u001b[38;5;34m30\u001b[0m, \u001b[38;5;34m128\u001b[0m)         │               \u001b[38;5;34m0\u001b[0m │\n",
       "├──────────────────────────────────────┼─────────────────────────────┼─────────────────┤\n",
       "│ conv2d_17 (\u001b[38;5;33mConv2D\u001b[0m)                   │ (\u001b[38;5;45mNone\u001b[0m, \u001b[38;5;34m28\u001b[0m, \u001b[38;5;34m28\u001b[0m, \u001b[38;5;34m256\u001b[0m)         │         \u001b[38;5;34m295,168\u001b[0m │\n",
       "├──────────────────────────────────────┼─────────────────────────────┼─────────────────┤\n",
       "│ max_pooling2d_17 (\u001b[38;5;33mMaxPooling2D\u001b[0m)      │ (\u001b[38;5;45mNone\u001b[0m, \u001b[38;5;34m14\u001b[0m, \u001b[38;5;34m14\u001b[0m, \u001b[38;5;34m256\u001b[0m)         │               \u001b[38;5;34m0\u001b[0m │\n",
       "├──────────────────────────────────────┼─────────────────────────────┼─────────────────┤\n",
       "│ batch_normalization_3                │ (\u001b[38;5;45mNone\u001b[0m, \u001b[38;5;34m14\u001b[0m, \u001b[38;5;34m14\u001b[0m, \u001b[38;5;34m256\u001b[0m)         │           \u001b[38;5;34m1,024\u001b[0m │\n",
       "│ (\u001b[38;5;33mBatchNormalization\u001b[0m)                 │                             │                 │\n",
       "├──────────────────────────────────────┼─────────────────────────────┼─────────────────┤\n",
       "│ dropout_5 (\u001b[38;5;33mDropout\u001b[0m)                  │ (\u001b[38;5;45mNone\u001b[0m, \u001b[38;5;34m14\u001b[0m, \u001b[38;5;34m14\u001b[0m, \u001b[38;5;34m256\u001b[0m)         │               \u001b[38;5;34m0\u001b[0m │\n",
       "├──────────────────────────────────────┼─────────────────────────────┼─────────────────┤\n",
       "│ flatten_5 (\u001b[38;5;33mFlatten\u001b[0m)                  │ (\u001b[38;5;45mNone\u001b[0m, \u001b[38;5;34m50176\u001b[0m)               │               \u001b[38;5;34m0\u001b[0m │\n",
       "├──────────────────────────────────────┼─────────────────────────────┼─────────────────┤\n",
       "│ dense_8 (\u001b[38;5;33mDense\u001b[0m)                      │ (\u001b[38;5;45mNone\u001b[0m, \u001b[38;5;34m256\u001b[0m)                 │      \u001b[38;5;34m12,845,312\u001b[0m │\n",
       "├──────────────────────────────────────┼─────────────────────────────┼─────────────────┤\n",
       "│ dropout_6 (\u001b[38;5;33mDropout\u001b[0m)                  │ (\u001b[38;5;45mNone\u001b[0m, \u001b[38;5;34m256\u001b[0m)                 │               \u001b[38;5;34m0\u001b[0m │\n",
       "├──────────────────────────────────────┼─────────────────────────────┼─────────────────┤\n",
       "│ dense_9 (\u001b[38;5;33mDense\u001b[0m)                      │ (\u001b[38;5;45mNone\u001b[0m, \u001b[38;5;34m7\u001b[0m)                   │           \u001b[38;5;34m1,799\u001b[0m │\n",
       "└──────────────────────────────────────┴─────────────────────────────┴─────────────────┘\n"
      ]
     },
     "metadata": {},
     "output_type": "display_data"
    },
    {
     "data": {
      "text/html": [
       "<pre style=\"white-space:pre;overflow-x:auto;line-height:normal;font-family:Menlo,'DejaVu Sans Mono',consolas,'Courier New',monospace\"><span style=\"font-weight: bold\"> Total params: </span><span style=\"color: #00af00; text-decoration-color: #00af00\">39,653,399</span> (151.27 MB)\n",
       "</pre>\n"
      ],
      "text/plain": [
       "\u001b[1m Total params: \u001b[0m\u001b[38;5;34m39,653,399\u001b[0m (151.27 MB)\n"
      ]
     },
     "metadata": {},
     "output_type": "display_data"
    },
    {
     "data": {
      "text/html": [
       "<pre style=\"white-space:pre;overflow-x:auto;line-height:normal;font-family:Menlo,'DejaVu Sans Mono',consolas,'Courier New',monospace\"><span style=\"font-weight: bold\"> Trainable params: </span><span style=\"color: #00af00; text-decoration-color: #00af00\">13,217,543</span> (50.42 MB)\n",
       "</pre>\n"
      ],
      "text/plain": [
       "\u001b[1m Trainable params: \u001b[0m\u001b[38;5;34m13,217,543\u001b[0m (50.42 MB)\n"
      ]
     },
     "metadata": {},
     "output_type": "display_data"
    },
    {
     "data": {
      "text/html": [
       "<pre style=\"white-space:pre;overflow-x:auto;line-height:normal;font-family:Menlo,'DejaVu Sans Mono',consolas,'Courier New',monospace\"><span style=\"font-weight: bold\"> Non-trainable params: </span><span style=\"color: #00af00; text-decoration-color: #00af00\">768</span> (3.00 KB)\n",
       "</pre>\n"
      ],
      "text/plain": [
       "\u001b[1m Non-trainable params: \u001b[0m\u001b[38;5;34m768\u001b[0m (3.00 KB)\n"
      ]
     },
     "metadata": {},
     "output_type": "display_data"
    },
    {
     "data": {
      "text/html": [
       "<pre style=\"white-space:pre;overflow-x:auto;line-height:normal;font-family:Menlo,'DejaVu Sans Mono',consolas,'Courier New',monospace\"><span style=\"font-weight: bold\"> Optimizer params: </span><span style=\"color: #00af00; text-decoration-color: #00af00\">26,435,088</span> (100.84 MB)\n",
       "</pre>\n"
      ],
      "text/plain": [
       "\u001b[1m Optimizer params: \u001b[0m\u001b[38;5;34m26,435,088\u001b[0m (100.84 MB)\n"
      ]
     },
     "metadata": {},
     "output_type": "display_data"
    }
   ],
   "source": [
    "model.summary()"
   ]
  },
  {
   "cell_type": "code",
   "execution_count": 116,
   "id": "37a3c5a1-45f1-4476-84a4-5ff9b73c5992",
   "metadata": {},
   "outputs": [
    {
     "name": "stderr",
     "output_type": "stream",
     "text": [
      "WARNING:absl:You are saving your model as an HDF5 file via `model.save()` or `keras.saving.save_model(model)`. This file format is considered legacy. We recommend using instead the native Keras format, e.g. `model.save('my_model.keras')` or `keras.saving.save_model(model, 'my_model.keras')`. \n"
     ]
    }
   ],
   "source": [
    "model.save('final_model.h5')"
   ]
  },
  {
   "cell_type": "markdown",
   "id": "61ea8bcc-9f48-4289-8dcc-6ff69e056510",
   "metadata": {},
   "source": [
    "## Diskusi Hasil\n",
    "model pengenalan wajah menunjukkan peningkatan performa yang signifikan. Akurasi pada data pelatihan meningkat secara konsisten dari 95.15% pada epoch pertama menjadi 100% pada epoch kesepuluh. Nilai loss pada data pelatihan juga menurun drastis dari 4.7940 menjadi 0.0233, menunjukkan bahwa model semakin baik dalam meminimalkan kesalahan prediksi seiring bertambahnya jumlah epoch. Pada data validasi, akurasi selalu mencapai 100% dari awal hingga akhir pelatihan, sementara nilai loss menurun dari 2.5072 menjadi 0.0050, mencerminkan performa model yang sangat baik dan stabil. Tidak ada tanda-tanda overfitting karena akurasi pada data validasi tetap tinggi dan nilai loss terus menurun. Selain itu, waktu yang dibutuhkan untuk setiap epoch relatif konsisten, sekitar 394 hingga 407 detik, menunjukkan efisiensi dalam proses pelatihan. Secara keseluruhan, model pengenalan wajah Anda telah dilatih dengan sangat baik, mencapai akurasi sempurna dan nilai loss yang sangat rendah pada data pelatihan dan validasi. Model ini siap untuk diimplementasikan dalam aplikasi dengan tingkat kepercayaan tinggi terhadap kinerjanya."
   ]
  },
  {
   "cell_type": "markdown",
   "id": "5ff70f3a-1055-450b-9af5-d612a8fa5225",
   "metadata": {},
   "source": [
    "## Kesimpulan\n",
    "proyek ini telah melalui proses yang komprehensif dan terstruktur. Pertama, dataset wajah dikumpulkan dan dimuat ke dalam sistem. Langkah selanjutnya adalah melakukan align pada wajah-wajah, yang memastikan bahwa semua gambar wajah dalam dataset memiliki orientasi yang seragam. Setelah itu, gambar-gambar wajah dinormalisasi untuk memastikan bahwa nilai pixel berada dalam rentang yang sama, sehingga memudahkan proses pelatihan model. Proses augmentasi kemudian dilakukan untuk memperbanyak dan memperkaya variasi data yang tersedia, dengan berbagai teknik augmentasi yang digunakan. Setiap gambar kemudian dilabeli sesuai dengan kelasnya.\n",
    "\n",
    "Setelah persiapan data selesai, model Convolutional Neural Network (CNN) dibangun dan dilatih menggunakan data yang telah diproses. Proses pelatihan ini dilakukan dalam beberapa epoch, dengan hasil menunjukkan peningkatan akurasi yang signifikan dan penurunan nilai loss secara konsisten dari epoch ke epoch. Pada akhir pelatihan, model mencapai akurasi yang sangat tinggi baik pada data pelatihan maupun data validasi, dengan nilai loss yang sangat rendah, menandakan bahwa model mampu memprediksi dengan sangat baik dan stabil. Tidak ada tanda-tanda overfitting yang terlihat, yang menunjukkan bahwa model tidak hanya belajar dari data pelatihan tetapi juga mampu menggeneralisasi dengan baik pada data baru. Waktu pelatihan yang konsisten menunjukkan efisiensi proses pelatihan yang dilakukan. Kesimpulannya, proyek pengenalan wajah ini berhasil dengan sangat baik, menghasilkan model yang siap diimplementasikan dengan performa yang sangat tinggi dan tingkat kepercayaan yang tinggi terhadap kinerjanya."
   ]
  },
  {
   "cell_type": "code",
   "execution_count": null,
   "id": "324be6d9-5068-4265-b9fc-acb82801253d",
   "metadata": {},
   "outputs": [],
   "source": []
  }
 ],
 "metadata": {
  "kernelspec": {
   "display_name": "Python 3 (ipykernel)",
   "language": "python",
   "name": "python3"
  },
  "language_info": {
   "codemirror_mode": {
    "name": "ipython",
    "version": 3
   },
   "file_extension": ".py",
   "mimetype": "text/x-python",
   "name": "python",
   "nbconvert_exporter": "python",
   "pygments_lexer": "ipython3",
   "version": "3.12.4"
  }
 },
 "nbformat": 4,
 "nbformat_minor": 5
}
